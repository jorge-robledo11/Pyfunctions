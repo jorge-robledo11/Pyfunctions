{
 "cells": [
  {
   "cell_type": "code",
   "execution_count": 4,
   "metadata": {},
   "outputs": [
    {
     "name": "stdout",
     "output_type": "stream",
     "text": [
      "Tiempo promedio de entrenamiento en CPU: 2.0566 segundos\n",
      "Tiempo promedio de entrenamiento en GPU: 0.8353 segundos\n"
     ]
    }
   ],
   "source": [
    "import xgboost as xgb\n",
    "import numpy as np\n",
    "import time\n",
    "\n",
    "# Crear un conjunto de datos de ejemplo más grande\n",
    "np.random.seed(42)\n",
    "X = np.random.rand(100000, 300)\n",
    "y = np.random.rand(100000)\n",
    "\n",
    "# Configurar XGBoost para usar la CPU\n",
    "params_cpu = {\n",
    "    'tree_method': 'hist',  # Utilizar el método de árbol CPU\n",
    "    'predictor': 'cpu_predictor',  # Utilizar el predictor CPU\n",
    "}\n",
    "\n",
    "# Configurar XGBoost para usar la GPU\n",
    "params_gpu = {\n",
    "    'tree_method': 'gpu_hist',  # Utilizar el método de árbol GPU\n",
    "    'predictor': 'gpu_predictor',  # Utilizar el predictor GPU\n",
    "}\n",
    "\n",
    "num_iterations = 10  # Número de iteraciones para obtener una estimación precisa del tiempo\n",
    "\n",
    "# Entrenar el modelo XGBoost en CPU y medir el tiempo\n",
    "cpu_times = list()\n",
    "for _ in range(num_iterations):\n",
    "    start_time_cpu = time.time()\n",
    "    model_cpu = xgb.XGBRegressor(**params_cpu)\n",
    "    model_cpu.fit(X, y)\n",
    "    end_time_cpu = time.time()\n",
    "    cpu_times.append(end_time_cpu - start_time_cpu)\n",
    "\n",
    "# Entrenar el modelo XGBoost en GPU y medir el tiempo\n",
    "gpu_times = list()\n",
    "for _ in range(num_iterations):\n",
    "    start_time_gpu = time.time()\n",
    "    model_gpu = xgb.XGBRegressor(**params_gpu)\n",
    "    model_gpu.fit(X, y)\n",
    "    end_time_gpu = time.time()\n",
    "    gpu_times.append(end_time_gpu - start_time_gpu)\n",
    "\n",
    "# Calcular los tiempos promedio en CPU y GPU\n",
    "avg_cpu_time = sum(cpu_times) / num_iterations\n",
    "avg_gpu_time = sum(gpu_times) / num_iterations\n",
    "\n",
    "print(f'Tiempo promedio de entrenamiento en CPU: {avg_cpu_time:.4f} segundos')\n",
    "print(f'Tiempo promedio de entrenamiento en GPU: {avg_gpu_time:.4f} segundos')"
   ]
  }
 ],
 "metadata": {
  "kernelspec": {
   "display_name": "venv_main",
   "language": "python",
   "name": "python3"
  },
  "language_info": {
   "codemirror_mode": {
    "name": "ipython",
    "version": 3
   },
   "file_extension": ".py",
   "mimetype": "text/x-python",
   "name": "python",
   "nbconvert_exporter": "python",
   "pygments_lexer": "ipython3",
   "version": "3.11.4"
  },
  "orig_nbformat": 4
 },
 "nbformat": 4,
 "nbformat_minor": 2
}
